{
  "nbformat": 4,
  "nbformat_minor": 0,
  "metadata": {
    "colab": {
      "name": "Untitled5.ipynb",
      "provenance": []
    },
    "kernelspec": {
      "name": "python3",
      "display_name": "Python 3"
    },
    "language_info": {
      "name": "python"
    }
  },
  "cells": [
    {
      "cell_type": "code",
      "metadata": {
        "colab": {
          "base_uri": "https://localhost:8080/"
        },
        "id": "ulp3F4-CNenY",
        "outputId": "39fbcd50-7a40-4570-c7ee-1b764c80a013"
      },
      "source": [
        "#ex1\n",
        "import numpy as np\n",
        "a = np.array([1, 2, 3])\n",
        "li = a.tolist()\n",
        "print(li)"
      ],
      "execution_count": null,
      "outputs": [
        {
          "output_type": "stream",
          "name": "stdout",
          "text": [
            "[1, 2, 3]\n"
          ]
        }
      ]
    },
    {
      "cell_type": "code",
      "metadata": {
        "id": "7N9t8-E_Zh4Q",
        "colab": {
          "base_uri": "https://localhost:8080/"
        },
        "outputId": "8e057d9f-6794-445c-fd67-1803dee06e7c"
      },
      "source": [
        "#ex2\n",
        "import numpy as np\n",
        "a=np.array([[1,2,3],[4,5,6],[7,8,9]])\n",
        "print(a.trace())\n"
      ],
      "execution_count": 2,
      "outputs": [
        {
          "output_type": "stream",
          "name": "stdout",
          "text": [
            "15\n"
          ]
        }
      ]
    },
    {
      "cell_type": "code",
      "metadata": {
        "colab": {
          "base_uri": "https://localhost:8080/"
        },
        "id": "YnJY4IVcuFYj",
        "outputId": "78b2d206-6fe7-43df-92e8-e7b7d4ceacdd"
      },
      "source": [
        "#ex3\n",
        "import numpy as np\n",
        "a=np.array([[1,2,3],[4,5,6],[7,8,9]])\n",
        "row=len(a)\n",
        "y=-row\n",
        "x=5\n",
        "while y<0:\n",
        "  z=0\n",
        "  while len(a[0])>z :\n",
        "    t=a[y,z]\n",
        "    if t>x:\n",
        "      print(t)\n",
        "    z=z+1\n",
        "  y=y+1\n",
        "  "
      ],
      "execution_count": 37,
      "outputs": [
        {
          "output_type": "stream",
          "name": "stdout",
          "text": [
            "6\n",
            "7\n",
            "8\n",
            "9\n"
          ]
        }
      ]
    },
    {
      "cell_type": "code",
      "metadata": {
        "colab": {
          "base_uri": "https://localhost:8080/"
        },
        "id": "NoZxDdYg2NQn",
        "outputId": "0ff0a7ef-da33-4e38-d86f-083a08c6efb0"
      },
      "source": [
        "#ex4\n",
        "import numpy as np\n",
        "a=np.array([[1,2,3],[4,5,6],[7,8,9]])\n",
        "b=np.array([[9,5,7],[3,6,0],[8,4,2]])\n",
        "c=np.random.random((3,3))\n",
        "row=len(a)\n",
        "y=-row\n",
        "while y<0:\n",
        "  z=0\n",
        "  while len(a[0])>z :\n",
        "    k=a[y,z]\n",
        "    l=b[y,z]\n",
        "    q=k+l\n",
        "    c[y,z]=q\n",
        "    z=z+1\n",
        "  y=y+1\n",
        "print(c)"
      ],
      "execution_count": 71,
      "outputs": [
        {
          "output_type": "stream",
          "name": "stdout",
          "text": [
            "[[10.  7. 10.]\n",
            " [ 7. 11.  6.]\n",
            " [15. 12. 11.]]\n"
          ]
        }
      ]
    },
    {
      "cell_type": "code",
      "metadata": {
        "colab": {
          "base_uri": "https://localhost:8080/"
        },
        "id": "UsPynXND680v",
        "outputId": "9e674d31-c8af-44e2-912f-068cd2a5b700"
      },
      "source": [
        "#ex5\n",
        "import numpy as np\n",
        "a=np.array([[1,2,3],[4,5,6],[7,8,9]])\n",
        "print(a)\n",
        "print(\"----------\")\n",
        "row=len(a)\n",
        "y=-row\n",
        "x=len(a[0])\n",
        "g=0\n",
        "z=0\n",
        "while y<0:\n",
        "  me=a[y].mean()\n",
        "  while x>z :\n",
        "    a[y,z]=a[y,z]-me\n",
        "    z=z+1\n",
        "  y=y+1\n",
        "print(a)"
      ],
      "execution_count": 53,
      "outputs": [
        {
          "output_type": "stream",
          "name": "stdout",
          "text": [
            "[[1 2 3]\n",
            " [4 5 6]\n",
            " [7 8 9]]\n",
            "----------\n",
            "[[-1  0  1]\n",
            " [ 4  5  6]\n",
            " [ 7  8  9]]\n"
          ]
        }
      ]
    }
  ]
}