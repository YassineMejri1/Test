{
  "nbformat": 4,
  "nbformat_minor": 0,
  "metadata": {
    "colab": {
      "name": "checkpoint1.ipynb",
      "provenance": [],
      "collapsed_sections": []
    },
    "kernelspec": {
      "name": "python3",
      "display_name": "Python 3"
    },
    "language_info": {
      "name": "python"
    }
  },
  "cells": [
    {
      "cell_type": "code",
      "metadata": {
        "colab": {
          "base_uri": "https://localhost:8080/"
        },
        "id": "lr0t94FrpFvY",
        "outputId": "5d58f9c8-7f68-47a4-c498-22095df8ae22"
      },
      "source": [
        "firstname=input()\n",
        "lastname=input()\n",
        "z=\" \"\n",
        "print(lastname+z+ firstname)"
      ],
      "execution_count": 49,
      "outputs": [
        {
          "output_type": "stream",
          "name": "stdout",
          "text": [
            "Yassine\n",
            "Mejri\n",
            "Mejri Yassine\n"
          ]
        }
      ]
    },
    {
      "cell_type": "code",
      "metadata": {
        "colab": {
          "base_uri": "https://localhost:8080/"
        },
        "id": "kH6hFEGhw89A",
        "outputId": "6dd7715d-df12-4dcd-c1d9-c98575045f02"
      },
      "source": [
        "\n",
        "n=int (input())\n",
        "n=str (n)\n",
        "x=n+n\n",
        "y=n+n+n\n",
        "x=int (x)\n",
        "y=int (y)\n",
        "n=int (n)\n",
        "z=n+x+y\n",
        "print(z)\n"
      ],
      "execution_count": 28,
      "outputs": [
        {
          "output_type": "stream",
          "name": "stdout",
          "text": [
            "5\n",
            "615\n"
          ]
        }
      ]
    },
    {
      "cell_type": "code",
      "metadata": {
        "id": "YIfcN-mFw8__",
        "colab": {
          "base_uri": "https://localhost:8080/"
        },
        "outputId": "484c51ad-ee57-436b-ff00-0ff88d70fa46"
      },
      "source": [
        "a=int (input())\n",
        "if a%2==0 :\n",
        "  print(\"the number is even\")\n",
        "else:\n",
        "  print(\"the number is odd\")"
      ],
      "execution_count": 7,
      "outputs": [
        {
          "output_type": "stream",
          "name": "stdout",
          "text": [
            "37747879\n",
            "the number is odd\n"
          ]
        }
      ]
    },
    {
      "cell_type": "code",
      "metadata": {
        "id": "7f7h3ooA1iT9",
        "colab": {
          "base_uri": "https://localhost:8080/"
        },
        "outputId": "36a273de-f846-4212-d529-f8caef93b43f"
      },
      "source": [
        "\n",
        "for x in range(2000,3200):\n",
        "  if x%7==0 and x%5!=0 :\n",
        "   print(x)\n",
        " \n"
      ],
      "execution_count": 33,
      "outputs": [
        {
          "output_type": "stream",
          "name": "stdout",
          "text": [
            "2002\n",
            "2009\n",
            "2016\n",
            "2023\n",
            "2037\n",
            "2044\n",
            "2051\n",
            "2058\n",
            "2072\n",
            "2079\n",
            "2086\n",
            "2093\n",
            "2107\n",
            "2114\n",
            "2121\n",
            "2128\n",
            "2142\n",
            "2149\n",
            "2156\n",
            "2163\n",
            "2177\n",
            "2184\n",
            "2191\n",
            "2198\n",
            "2212\n",
            "2219\n",
            "2226\n",
            "2233\n",
            "2247\n",
            "2254\n",
            "2261\n",
            "2268\n",
            "2282\n",
            "2289\n",
            "2296\n",
            "2303\n",
            "2317\n",
            "2324\n",
            "2331\n",
            "2338\n",
            "2352\n",
            "2359\n",
            "2366\n",
            "2373\n",
            "2387\n",
            "2394\n",
            "2401\n",
            "2408\n",
            "2422\n",
            "2429\n",
            "2436\n",
            "2443\n",
            "2457\n",
            "2464\n",
            "2471\n",
            "2478\n",
            "2492\n",
            "2499\n",
            "2506\n",
            "2513\n",
            "2527\n",
            "2534\n",
            "2541\n",
            "2548\n",
            "2562\n",
            "2569\n",
            "2576\n",
            "2583\n",
            "2597\n",
            "2604\n",
            "2611\n",
            "2618\n",
            "2632\n",
            "2639\n",
            "2646\n",
            "2653\n",
            "2667\n",
            "2674\n",
            "2681\n",
            "2688\n",
            "2702\n",
            "2709\n",
            "2716\n",
            "2723\n",
            "2737\n",
            "2744\n",
            "2751\n",
            "2758\n",
            "2772\n",
            "2779\n",
            "2786\n",
            "2793\n",
            "2807\n",
            "2814\n",
            "2821\n",
            "2828\n",
            "2842\n",
            "2849\n",
            "2856\n",
            "2863\n",
            "2877\n",
            "2884\n",
            "2891\n",
            "2898\n",
            "2912\n",
            "2919\n",
            "2926\n",
            "2933\n",
            "2947\n",
            "2954\n",
            "2961\n",
            "2968\n",
            "2982\n",
            "2989\n",
            "2996\n",
            "3003\n",
            "3017\n",
            "3024\n",
            "3031\n",
            "3038\n",
            "3052\n",
            "3059\n",
            "3066\n",
            "3073\n",
            "3087\n",
            "3094\n",
            "3101\n",
            "3108\n",
            "3122\n",
            "3129\n",
            "3136\n",
            "3143\n",
            "3157\n",
            "3164\n",
            "3171\n",
            "3178\n",
            "3192\n",
            "3199\n"
          ]
        }
      ]
    },
    {
      "cell_type": "code",
      "metadata": {
        "id": "Te5tQfzuw9EI",
        "colab": {
          "base_uri": "https://localhost:8080/"
        },
        "outputId": "e3a32551-e982-4b9a-96ef-494e239c73ea"
      },
      "source": [
        "x=str (input())\n",
        "a=0\n",
        "z=\"\"\n",
        "while a<= len(x)-1 :\n",
        " z=z+x[a]\n",
        " a=a+2\n",
        "\n",
        "print(z)\n",
        "\n",
        "\n",
        "\n"
      ],
      "execution_count": 38,
      "outputs": [
        {
          "output_type": "stream",
          "name": "stdout",
          "text": [
            "hello\n",
            "hlo\n"
          ]
        }
      ]
    },
    {
      "cell_type": "code",
      "metadata": {
        "id": "B0jX7cwAw9HV",
        "colab": {
          "base_uri": "https://localhost:8080/"
        },
        "outputId": "8ba84b5c-4381-462e-fbcf-0516e4894598"
      },
      "source": [
        "n =int( input())\n",
        "\n",
        "if n>=500 :\n",
        "  y= n - n*50/100\n",
        "elif n<500 and n>200 :\n",
        "  y= n - n*30/100\n",
        "else:\n",
        "  y= n - n*10/100\n",
        "\n",
        "print(\"Final Price Is \",y)\n"
      ],
      "execution_count": 45,
      "outputs": [
        {
          "output_type": "stream",
          "name": "stdout",
          "text": [
            "200\n",
            "Final Price Is  180.0\n"
          ]
        }
      ]
    },
    {
      "cell_type": "code",
      "metadata": {
        "id": "ODM9uoVdw9KH",
        "colab": {
          "base_uri": "https://localhost:8080/"
        },
        "outputId": "30f33213-47b7-4c7b-94cf-f347dcc5c8fe"
      },
      "source": [
        "a= int (input())\n",
        "y=a\n",
        "z=1\n",
        "while y>=1:\n",
        "  z=y*z\n",
        "  y=y-1\n",
        "\n",
        "print(z)\n"
      ],
      "execution_count": 57,
      "outputs": [
        {
          "output_type": "stream",
          "name": "stdout",
          "text": [
            "4\n",
            "24\n"
          ]
        }
      ]
    },
    {
      "cell_type": "code",
      "metadata": {
        "id": "jUBT5Kmjw9My"
      },
      "source": [
        ""
      ],
      "execution_count": null,
      "outputs": []
    },
    {
      "cell_type": "code",
      "metadata": {
        "id": "3BQnN2O0w9Pd"
      },
      "source": [
        ""
      ],
      "execution_count": null,
      "outputs": []
    },
    {
      "cell_type": "code",
      "metadata": {
        "id": "XH8-7Ilpw9SG"
      },
      "source": [
        ""
      ],
      "execution_count": null,
      "outputs": []
    },
    {
      "cell_type": "markdown",
      "metadata": {
        "id": "VRH4QvHGw9Ux"
      },
      "source": [
        ""
      ]
    }
  ]
}