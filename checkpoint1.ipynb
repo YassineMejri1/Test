{
  "nbformat": 4,
  "nbformat_minor": 0,
  "metadata": {
    "colab": {
      "name": "checkpoint1.ipynb",
      "provenance": [],
      "collapsed_sections": []
    },
    "kernelspec": {
      "name": "python3",
      "display_name": "Python 3"
    },
    "language_info": {
      "name": "python"
    }
  },
  "cells": [
    {
      "cell_type": "code",
      "metadata": {
        "colab": {
          "base_uri": "https://localhost:8080/"
        },
        "id": "lr0t94FrpFvY",
        "outputId": "5d58f9c8-7f68-47a4-c498-22095df8ae22"
      },
      "source": [
        "firstname=input()\n",
        "lastname=input()\n",
        "z=\" \"\n",
        "print(lastname+z+ firstname)"
      ],
      "execution_count": 49,
      "outputs": [
        {
          "output_type": "stream",
          "name": "stdout",
          "text": [
            "Yassine\n",
            "Mejri\n",
            "Mejri Yassine\n"
          ]
        }
      ]
    },
    {
      "cell_type": "code",
      "metadata": {
        "colab": {
          "base_uri": "https://localhost:8080/"
        },
        "id": "kH6hFEGhw89A",
        "outputId": "6dd7715d-df12-4dcd-c1d9-c98575045f02"
      },
      "source": [
        "\n",
        "n=int (input())\n",
        "n=str (n)\n",
        "x=n+n\n",
        "y=n+n+n\n",
        "x=int (x)\n",
        "y=int (y)\n",
        "n=int (n)\n",
        "z=n+x+y\n",
        "print(z)\n"
      ],
      "execution_count": 28,
      "outputs": [
        {
          "output_type": "stream",
          "name": "stdout",
          "text": [
            "5\n",
            "615\n"
          ]
        }
      ]
    },
    {
      "cell_type": "code",
      "metadata": {
        "id": "YIfcN-mFw8__",
        "colab": {
          "base_uri": "https://localhost:8080/"
        },
        "outputId": "484c51ad-ee57-436b-ff00-0ff88d70fa46"
      },
      "source": [
        "a=int (input())\n",
        "if a%2==0 :\n",
        "  print(\"the number is even\")\n",
        "else:\n",
        "  print(\"the number is odd\")"
      ],
      "execution_count": 7,
      "outputs": [
        {
          "output_type": "stream",
          "name": "stdout",
          "text": [
            "37747879\n",
            "the number is odd\n"
          ]
        }
      ]
    },
    {
      "cell_type": "code",
      "metadata": {
        "id": "7f7h3ooA1iT9",
        "colab": {
          "base_uri": "https://localhost:8080/"
        },
        "outputId": "ae006b50-6772-4662-dcf2-1faaafd18b8d"
      },
      "source": [
        "for x in range(2000,3200):\n",
        "  if x%7==0 and x%5!=0 :\n",
        "    print(x, end=\" \")\n"
      ],
      "execution_count": 66,
      "outputs": [
        {
          "output_type": "stream",
          "name": "stdout",
          "text": [
            "2002 2009 2016 2023 2037 2044 2051 2058 2072 2079 2086 2093 2107 2114 2121 2128 2142 2149 2156 2163 2177 2184 2191 2198 2212 2219 2226 2233 2247 2254 2261 2268 2282 2289 2296 2303 2317 2324 2331 2338 2352 2359 2366 2373 2387 2394 2401 2408 2422 2429 2436 2443 2457 2464 2471 2478 2492 2499 2506 2513 2527 2534 2541 2548 2562 2569 2576 2583 2597 2604 2611 2618 2632 2639 2646 2653 2667 2674 2681 2688 2702 2709 2716 2723 2737 2744 2751 2758 2772 2779 2786 2793 2807 2814 2821 2828 2842 2849 2856 2863 2877 2884 2891 2898 2912 2919 2926 2933 2947 2954 2961 2968 2982 2989 2996 3003 3017 3024 3031 3038 3052 3059 3066 3073 3087 3094 3101 3108 3122 3129 3136 3143 3157 3164 3171 3178 3192 3199 "
          ]
        }
      ]
    },
    {
      "cell_type": "code",
      "metadata": {
        "id": "Te5tQfzuw9EI",
        "colab": {
          "base_uri": "https://localhost:8080/"
        },
        "outputId": "e3a32551-e982-4b9a-96ef-494e239c73ea"
      },
      "source": [
        "x=str (input())\n",
        "a=0\n",
        "z=\"\"\n",
        "while a<= len(x)-1 :\n",
        " z=z+x[a]\n",
        " a=a+2\n",
        "\n",
        "print(z)\n",
        "\n",
        "\n",
        "\n"
      ],
      "execution_count": 38,
      "outputs": [
        {
          "output_type": "stream",
          "name": "stdout",
          "text": [
            "hello\n",
            "hlo\n"
          ]
        }
      ]
    },
    {
      "cell_type": "code",
      "metadata": {
        "id": "B0jX7cwAw9HV",
        "colab": {
          "base_uri": "https://localhost:8080/"
        },
        "outputId": "8ba84b5c-4381-462e-fbcf-0516e4894598"
      },
      "source": [
        "n =int( input())\n",
        "\n",
        "if n>=500 :\n",
        "  y= n - n*50/100\n",
        "elif n<500 and n>200 :\n",
        "  y= n - n*30/100\n",
        "else:\n",
        "  y= n - n*10/100\n",
        "\n",
        "print(\"Final Price Is \",y)\n"
      ],
      "execution_count": 45,
      "outputs": [
        {
          "output_type": "stream",
          "name": "stdout",
          "text": [
            "200\n",
            "Final Price Is  180.0\n"
          ]
        }
      ]
    },
    {
      "cell_type": "code",
      "metadata": {
        "id": "ODM9uoVdw9KH",
        "colab": {
          "base_uri": "https://localhost:8080/"
        },
        "outputId": "30f33213-47b7-4c7b-94cf-f347dcc5c8fe"
      },
      "source": [
        "a= int (input())\n",
        "y=a\n",
        "z=1\n",
        "while y>=1:\n",
        "  z=y*z\n",
        "  y=y-1\n",
        "\n",
        "print(z)\n"
      ],
      "execution_count": 57,
      "outputs": [
        {
          "output_type": "stream",
          "name": "stdout",
          "text": [
            "4\n",
            "24\n"
          ]
        }
      ]
    },
    {
      "cell_type": "code",
      "metadata": {
        "id": "jUBT5Kmjw9My"
      },
      "source": [
        ""
      ],
      "execution_count": null,
      "outputs": []
    },
    {
      "cell_type": "code",
      "metadata": {
        "id": "3BQnN2O0w9Pd"
      },
      "source": [
        ""
      ],
      "execution_count": null,
      "outputs": []
    },
    {
      "cell_type": "code",
      "metadata": {
        "id": "XH8-7Ilpw9SG"
      },
      "source": [
        ""
      ],
      "execution_count": null,
      "outputs": []
    },
    {
      "cell_type": "markdown",
      "metadata": {
        "id": "VRH4QvHGw9Ux"
      },
      "source": [
        ""
      ]
    }
  ]
}