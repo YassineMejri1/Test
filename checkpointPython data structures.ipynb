{
  "nbformat": 4,
  "nbformat_minor": 0,
  "metadata": {
    "colab": {
      "name": "Untitled0.ipynb",
      "provenance": []
    },
    "kernelspec": {
      "name": "python3",
      "display_name": "Python 3"
    },
    "language_info": {
      "name": "python"
    }
  },
  "cells": [
    {
      "cell_type": "code",
      "metadata": {
        "id": "NSTWWxEXVjBf",
        "colab": {
          "base_uri": "https://localhost:8080/"
        },
        "outputId": "c033b7a2-8518-4491-d475-4c235eb699f5"
      },
      "source": [
        "#ex1\n",
        "mylist=[input()]\n",
        "x=len(mylist)\n",
        "a=0\n",
        "\n",
        "while a<x:\n",
        "  z=1\n",
        "  y=mylist[a]\n",
        "  z=y*z\n",
        "  a=a+1 \n",
        "print(z)\n"
      ],
      "execution_count": 38,
      "outputs": [
        {
          "output_type": "stream",
          "name": "stdout",
          "text": [
            "1,2,3,4\n",
            "1,2,3,4\n"
          ]
        }
      ]
    },
    {
      "cell_type": "code",
      "metadata": {
        "colab": {
          "base_uri": "https://localhost:8080/"
        },
        "id": "Vs6E3gVJWD9I",
        "outputId": "53a6cf5b-a30e-4118-e500-14427a25bbb6"
      },
      "source": [
        "#ex2\n",
        "def min(t):\n",
        "  min1=t[0]\n",
        "  for element in t:\n",
        "    if min1[1]>element[1]:\n",
        "      min1=element\n",
        "  return min1 \n",
        "\n",
        "t=[(2, 5), (1, 2), (4, 4), (2, 3), (2, 1)]\n",
        "x=len(t)\n",
        "a=0\n",
        "t2=[]\n",
        "\n",
        "while a<x :\n",
        " min1=min(t)\n",
        " t2.append(min1)\n",
        " t.remove(min1)\n",
        " a=a+1\n",
        "print(t2)\n",
        "\n",
        "\n"
      ],
      "execution_count": 27,
      "outputs": [
        {
          "output_type": "stream",
          "name": "stdout",
          "text": [
            "[(2, 1), (1, 2), (2, 3), (4, 4), (2, 5)]\n"
          ]
        }
      ]
    },
    {
      "cell_type": "code",
      "metadata": {
        "colab": {
          "base_uri": "https://localhost:8080/"
        },
        "id": "CcXoAMgvWEkN",
        "outputId": "59201bdf-8f71-4af5-cc26-2192fcc86855"
      },
      "source": [
        "#ex3\n",
        "d1 = {'a': 100, 'b': 200, 'c':300}\n",
        "d2 = {'a': 300, 'b': 200, 'd':400}\n",
        "d3=dict()\n",
        "for i_d1 in d1:\n",
        "  if i_d1 in d2.keys():\n",
        "    d3[i_d1]=d1[i_d1]+d2[i_d1]\n",
        "  else:\n",
        "    d3[i_d1]=d1[i_d1]\n",
        "for i_d2 in  d2:\n",
        "  if i_d2 not in d1.keys():\n",
        "    d3[i_d2]=d2[i_d2]\n",
        "\n",
        "\n",
        "print(d3)\n",
        "  \n",
        "\n"
      ],
      "execution_count": null,
      "outputs": [
        {
          "output_type": "stream",
          "name": "stdout",
          "text": [
            "{'a': 400, 'b': 400, 'c': 300, 'd': 400}\n"
          ]
        }
      ]
    },
    {
      "cell_type": "code",
      "metadata": {
        "colab": {
          "base_uri": "https://localhost:8080/"
        },
        "id": "QWB0mQ-ZWEmt",
        "outputId": "7c034b38-d2c5-4e4d-eb26-4bec9ec242f7"
      },
      "source": [
        "#ex4\n",
        "n=int(input()) \n",
        "d=dict()\n",
        "a=1\n",
        "while a<=n :\n",
        "  d[a]=a*a\n",
        "  a=a+1\n",
        "print(d)\n"
      ],
      "execution_count": null,
      "outputs": [
        {
          "output_type": "stream",
          "name": "stdout",
          "text": [
            "8\n",
            "{1: 1, 2: 4, 3: 9, 4: 16, 5: 25, 6: 36, 7: 49, 8: 64}\n"
          ]
        }
      ]
    },
    {
      "cell_type": "code",
      "metadata": {
        "id": "5ODKIWSf8_Oo",
        "colab": {
          "base_uri": "https://localhost:8080/"
        },
        "outputId": "024c7163-123f-432d-d8f4-ebe502cd58b7"
      },
      "source": [
        "#ex5\n",
        "def max(t):\n",
        "  max1=t[0]\n",
        "  for element in t:\n",
        "    if max1[1]<element[1]:\n",
        "      max1=element\n",
        "  return max1 \n",
        "\n",
        "t=[('item1', '12.20'), ('item2', '15.10'), ('item3', '24.5')]\n",
        "x=len(t)\n",
        "a=0\n",
        "t2=[]\n",
        "\n",
        "while a<x :\n",
        " max1=max(t)\n",
        " t2.append(max1)\n",
        " t.remove(max1)\n",
        " a=a+1\n",
        "print(t2)\n",
        "\n"
      ],
      "execution_count": 33,
      "outputs": [
        {
          "output_type": "stream",
          "name": "stdout",
          "text": [
            "[('item3', '24.5'), ('item2', '15.10'), ('item1', '12.20')]\n"
          ]
        }
      ]
    }
  ]
}