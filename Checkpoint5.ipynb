{
  "nbformat": 4,
  "nbformat_minor": 0,
  "metadata": {
    "colab": {
      "name": "Untitled4.ipynb",
      "provenance": []
    },
    "kernelspec": {
      "name": "python3",
      "display_name": "Python 3"
    },
    "language_info": {
      "name": "python"
    }
  },
  "cells": [
    {
      "cell_type": "code",
      "metadata": {
        "colab": {
          "base_uri": "https://localhost:8080/"
        },
        "id": "y7WBl1N_K8p0",
        "outputId": "14564609-4e09-4e5e-a52d-b52b805a2a26"
      },
      "source": [
        "class Point3D :\n",
        "  def __init__ (self,x,y,z) :\n",
        "    self.x=x\n",
        "    self.y=y\n",
        "    self.z=z\n",
        "  def show_point(self):\n",
        "    return(self.x,self.y,self.z)\n",
        "    \n",
        "    \n",
        "my_point= Point3D(1,2,3)\n",
        "xyz=my_point.show_point()\n",
        "for element in xyz:\n",
        "  print(element)\n",
        "\n"
      ],
      "execution_count": 21,
      "outputs": [
        {
          "output_type": "stream",
          "name": "stdout",
          "text": [
            "1\n",
            "2\n",
            "3\n"
          ]
        }
      ]
    },
    {
      "cell_type": "code",
      "metadata": {
        "id": "hip67e8uVMGg",
        "colab": {
          "base_uri": "https://localhost:8080/"
        },
        "outputId": "7280026e-d36c-4b78-a358-dff884740e4f"
      },
      "source": [
        "#ex2\n",
        "class Rectangle :\n",
        "  def __init__ (self,lenght,width) :\n",
        "    self.lenght=lenght\n",
        "    self.width=width\n",
        "  def area(self):\n",
        "    return self.lenght*self.width\n",
        "  def perimeter(self):\n",
        "    return 2*(self.lenght+self.width)\n",
        "\n",
        "my_rectangle= Rectangle(4,3)\n",
        "print(my_rectangle.perimeter())\n",
        "print(my_rectangle.area())"
      ],
      "execution_count": 22,
      "outputs": [
        {
          "output_type": "stream",
          "name": "stdout",
          "text": [
            "14\n",
            "12\n"
          ]
        }
      ]
    },
    {
      "cell_type": "code",
      "metadata": {
        "id": "Vtc__B1bVMtQ",
        "colab": {
          "base_uri": "https://localhost:8080/"
        },
        "outputId": "aa445fa5-b941-4bbf-d3f9-2572d470a0a9"
      },
      "source": [
        "#ex3\n",
        "import math\n",
        "class Circle :\n",
        "  def __init__ (self,ox,oy,r) :\n",
        "    self.ox=oy\n",
        "    self.oy=oy\n",
        "    self.r=r\n",
        "\n",
        "  def area(self):\n",
        "    a= math.pi*self.r*self.r\n",
        "    return (a)\n",
        "  def perimeter(self):\n",
        "    p= math.pi*2*self.r\n",
        "    return(p)\n",
        "  def isInside(self,x,y):\n",
        "    d=math.sqrt(((x-self.ox)**2)+((y-self.oy)**2))\n",
        "    if d<=self.r:\n",
        "      print(\"the point is inside the circle\")\n",
        "    else:\n",
        "      print(\"the point is not inside the circle\")\n",
        "    \n",
        "circle=Circle(2,3,4)\n",
        "print(circle.area())\n",
        "print(circle.perimeter())\n",
        "circle.isInside(5,6)\n",
        "\n",
        "\n",
        "    "
      ],
      "execution_count": 29,
      "outputs": [
        {
          "output_type": "stream",
          "name": "stdout",
          "text": [
            "50.26548245743669\n",
            "25.132741228718345\n",
            "the point is inside the circle\n"
          ]
        }
      ]
    },
    {
      "cell_type": "code",
      "metadata": {
        "colab": {
          "base_uri": "https://localhost:8080/"
        },
        "id": "50-D2Nd7xXAn",
        "outputId": "76aa114d-3593-4423-a8f6-eb7c15fd1daa"
      },
      "source": [
        "#ex4\n",
        "class Bank :\n",
        "  def __init__(self,a) :\n",
        "    self.a=a\n",
        "  def deposit(self,b):\n",
        "    self.a=self.a+b\n",
        "    print(\"you have\",self.a)\n",
        "  def withdraw(self,c):\n",
        "    if self.a>=c :\n",
        "      self.a=self.a-c\n",
        "      print(\"you have\",self.a)\n",
        "    else:\n",
        "      print(\"you don't have enought money\")\n",
        "    \n",
        "myaccount=Bank(80)\n",
        "\n",
        "print(myaccount.deposit(20)) \n",
        "print(myaccount.withdraw(50)) \n"
      ],
      "execution_count": 36,
      "outputs": [
        {
          "output_type": "stream",
          "name": "stdout",
          "text": [
            "you have 100\n",
            "None\n",
            "you have 50\n",
            "None\n"
          ]
        }
      ]
    }
  ]
}