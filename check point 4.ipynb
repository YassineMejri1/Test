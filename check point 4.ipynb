{
  "nbformat": 4,
  "nbformat_minor": 0,
  "metadata": {
    "colab": {
      "name": "Untitled1.ipynb",
      "provenance": []
    },
    "kernelspec": {
      "name": "python3",
      "display_name": "Python 3"
    },
    "language_info": {
      "name": "python"
    }
  },
  "cells": [
    {
      "cell_type": "code",
      "metadata": {
        "colab": {
          "base_uri": "https://localhost:8080/"
        },
        "id": "E4R0nmNCGB4h",
        "outputId": "d5b9cda5-8583-48f4-ce39-e4b5dba0aa18"
      },
      "source": [
        "#ex1\n",
        "def max(a,b,c):\n",
        "\n",
        "  if a>b and a>c:\n",
        "   z=a\n",
        "  elif b>a and b>c:\n",
        "    z=b\n",
        "  else:\n",
        "    z=c\n",
        "  return(z)\n",
        "a=int(input())\n",
        "b=int(input())\n",
        "c=int(input())\n",
        "print(max(a,b,c))\n"
      ],
      "execution_count": null,
      "outputs": [
        {
          "output_type": "stream",
          "name": "stdout",
          "text": [
            "40\n",
            "110\n",
            "3\n",
            "110\n"
          ]
        }
      ]
    },
    {
      "cell_type": "code",
      "metadata": {
        "colab": {
          "base_uri": "https://localhost:8080/"
        },
        "id": "iNCzHY2bSqOj",
        "outputId": "81e2b899-db81-4bbb-dc18-9ad737aeb73d"
      },
      "source": [
        "#ex2\n",
        "def calculate(a,b):\n",
        " x=a+b\n",
        " y=a-b\n",
        " return(x,y)\n",
        "a=int(input())\n",
        "b=int(input())\n",
        "print(calculate(a,b))"
      ],
      "execution_count": null,
      "outputs": [
        {
          "output_type": "stream",
          "name": "stdout",
          "text": [
            "40\n",
            "10\n",
            "(50, 30)\n"
          ]
        }
      ]
    },
    {
      "cell_type": "code",
      "metadata": {
        "colab": {
          "base_uri": "https://localhost:8080/"
        },
        "id": "YOew3NposIAl",
        "outputId": "dcb22240-dfe2-40f7-9e77-aa0742e60d1a"
      },
      "source": [
        "#ex3\n",
        "def som(li):\n",
        " l=len(li)\n",
        " a=0\n",
        " z=0\n",
        " while l>a:\n",
        "   z=z+li[a]\n",
        "   a=a+1\n",
        " return (z)\n",
        "def multiplie(li):\n",
        " l1=len(li)\n",
        " b=0\n",
        " y=1\n",
        " while l1>b:\n",
        "   y=y*li[b]\n",
        "   b=b+1\n",
        " return (y)\n",
        "\n",
        "li=[1,2,3,4,5,6]\n",
        "lp=[]\n",
        "lmp=[]\n",
        "h=len(li)\n",
        "t=0\n",
        "o=0\n",
        "g=1\n",
        "while t<h :\n",
        " if (t%2==0):\n",
        "   lp.append(li[t])\n",
        " else :\n",
        "   lmp.append(li[t])\n",
        " t=t+1\n",
        "print(som(lp))\n",
        "print(multiplie(lmp))\n",
        "\n",
        "\n"
      ],
      "execution_count": 4,
      "outputs": [
        {
          "output_type": "stream",
          "name": "stdout",
          "text": [
            "9\n",
            "48\n"
          ]
        }
      ]
    },
    {
      "cell_type": "code",
      "metadata": {
        "colab": {
          "base_uri": "https://localhost:8080/"
        },
        "id": "R-yI8AxwlfS4",
        "outputId": "7599e6e3-9977-4060-8025-67264dfe8a75"
      },
      "source": [
        "#ex4\n",
        "s=str(input())\n",
        "x=s.split()\n",
        "z=sorted(x)\n",
        "print(z)\n"
      ],
      "execution_count": 18,
      "outputs": [
        {
          "output_type": "stream",
          "name": "stdout",
          "text": [
            "a z e r t y b\n",
            "['a', 'b', 'e', 'r', 't', 'y', 'z']\n"
          ]
        }
      ]
    }
  ]
}