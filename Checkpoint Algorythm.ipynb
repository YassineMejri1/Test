{
  "nbformat": 4,
  "nbformat_minor": 0,
  "metadata": {
    "colab": {
      "name": "Untitled9.ipynb",
      "provenance": []
    },
    "kernelspec": {
      "name": "python3",
      "display_name": "Python 3"
    },
    "language_info": {
      "name": "python"
    }
  },
  "cells": [
    {
      "cell_type": "code",
      "metadata": {
        "colab": {
          "base_uri": "https://localhost:8080/",
          "height": 36
        },
        "id": "jYAl3aWOZMlq",
        "outputId": "3b54a46a-a960-4f76-e019-7f08d90ec6ff"
      },
      "source": [
        "#ex1\n",
        "def binary_search(l, low, high, a):\n",
        "    if high >= low:\n",
        "        mid = int(low + (high - low)/2)\n",
        "        if l[mid] == a:\n",
        "            return 'True'\n",
        "        elif l[mid] > a:\n",
        "            return binary_search(l, low, mid-1, a)\n",
        "        else:\n",
        "            return binary_search(l, mid+1, high, a)\n",
        "    else:\n",
        "        return 'False'\n",
        "\n",
        "l=[1,2,3,5,8]\n",
        "a=5;low=0; high=len(l)-1;\n",
        "binary_search(l, low, high, a)"
      ],
      "execution_count": null,
      "outputs": [
        {
          "output_type": "execute_result",
          "data": {
            "application/vnd.google.colaboratory.intrinsic+json": {
              "type": "string"
            },
            "text/plain": [
              "'True'"
            ]
          },
          "metadata": {},
          "execution_count": 25
        }
      ]
    },
    {
      "cell_type": "code",
      "metadata": {
        "id": "m6wMrJOKbc_o",
        "colab": {
          "base_uri": "https://localhost:8080/"
        },
        "outputId": "f07d007b-93e8-4abd-8a30-1fc311b035ca"
      },
      "source": [
        "#ex2\n",
        "def power(a,b):\n",
        "  z=1\n",
        "  if b>0:\n",
        "   return a*power(a,b-1)\n",
        "  else :\n",
        "    return 1\n",
        "a=3\n",
        "b=4\n",
        "power(a,b)\n",
        "\n"
      ],
      "execution_count": 8,
      "outputs": [
        {
          "output_type": "execute_result",
          "data": {
            "text/plain": [
              "81"
            ]
          },
          "metadata": {},
          "execution_count": 8
        }
      ]
    },
    {
      "cell_type": "code",
      "metadata": {
        "colab": {
          "base_uri": "https://localhost:8080/"
        },
        "id": "6XA5GSc9be9v",
        "outputId": "18ec5c85-6fbb-4e7c-9419-12556cfc2e3a"
      },
      "source": [
        "#ex3\n",
        "def bubbleSort(l):\n",
        "    for a in range(len(l)-1,0,-1):\n",
        "        for i in range(a):\n",
        "            if l[i]>l[i+1]:\n",
        "                b = l[i]\n",
        "                l[i] = l[i+1]\n",
        "                l[i+1] = b\n",
        "    return nlist\n",
        "\n",
        "l = [29,13,22,37,52,49,46,71,56]\n",
        "bubbleSort(l)"
      ],
      "execution_count": null,
      "outputs": [
        {
          "output_type": "execute_result",
          "data": {
            "text/plain": [
              "[13, 22, 29, 37, 46, 49, 52, 56, 71]"
            ]
          },
          "metadata": {},
          "execution_count": 4
        }
      ]
    },
    {
      "cell_type": "code",
      "metadata": {
        "colab": {
          "base_uri": "https://localhost:8080/"
        },
        "id": "uZPzAkppbfIu",
        "outputId": "17397b67-137b-451e-af8a-39175fe16651"
      },
      "source": [
        "#ex4\n",
        "def mergeSort(l):\n",
        "    if len(l) > 1:\n",
        "        mid = len(l) // 2\n",
        "        left = l[:mid]\n",
        "        right = l[mid:]\n",
        "        mergeSort(left)\n",
        "        mergeSort(right)\n",
        "        i = 0\n",
        "        j = 0\n",
        "        k = 0\n",
        "        \n",
        "        while i < len(left) and j < len(right):\n",
        "            if left[i] < right[j]:\n",
        "              l[k] = left[i]\n",
        "              i += 1\n",
        "            else:\n",
        "                l[k] = right[j]\n",
        "                j += 1\n",
        "            k += 1\n",
        "        while i < len(left):\n",
        "            l[k] = left[i]\n",
        "            i += 1\n",
        "            k += 1\n",
        "        while j < len(right):\n",
        "            l[k]=right[j]\n",
        "            j += 1\n",
        "            k += 1\n",
        "\n",
        "l= [29,13,22,37,52,49,46,71,56]\n",
        "mergeSort(l)\n",
        "print(l)"
      ],
      "execution_count": null,
      "outputs": [
        {
          "output_type": "stream",
          "name": "stdout",
          "text": [
            "[13, 22, 29, 37, 46, 49, 52, 56, 71]\n"
          ]
        }
      ]
    },
    {
      "cell_type": "code",
      "metadata": {
        "colab": {
          "base_uri": "https://localhost:8080/"
        },
        "id": "I32qG-VDbfPu",
        "outputId": "9595f043-f31d-4df1-bf12-b43e467d032e"
      },
      "source": [
        "#ex5\n",
        "def partition(arr, low, high):\n",
        "    i = (low-1)         \n",
        "    pivot = arr[high]    \n",
        " \n",
        "    for j in range(low, high):\n",
        "       if arr[j] <= pivot:\n",
        " \n",
        "            i = i+1\n",
        "            arr[i], arr[j] = arr[j], arr[i]\n",
        " \n",
        "    arr[i+1], arr[high] = arr[high], arr[i+1]\n",
        "    return (i+1)\n",
        "\n",
        "def quickSort(arr, low, high):\n",
        "    if len(arr) == 1:\n",
        "        return arr\n",
        "    if low < high:\n",
        "\n",
        "        pi = partition(arr, low, high)\n",
        " \n",
        "        quickSort(arr, low, pi-1)\n",
        "        quickSort(arr, pi+1, high)\n",
        " \n",
        "\n",
        "arr =[29,13,22,37,52,49,46,71,56]\n",
        "n = len(arr)\n",
        "quickSort(arr, 0, n-1)\n",
        "arr"
      ],
      "execution_count": 15,
      "outputs": [
        {
          "output_type": "execute_result",
          "data": {
            "text/plain": [
              "[13, 22, 29, 37, 46, 49, 52, 56, 71]"
            ]
          },
          "metadata": {},
          "execution_count": 15
        }
      ]
    }
  ]
}